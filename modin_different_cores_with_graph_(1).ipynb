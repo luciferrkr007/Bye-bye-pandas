{
  "nbformat": 4,
  "nbformat_minor": 0,
  "metadata": {
    "kernelspec": {
      "display_name": "Python 3",
      "language": "python",
      "name": "python3"
    },
    "language_info": {
      "codemirror_mode": {
        "name": "ipython",
        "version": 3
      },
      "file_extension": ".py",
      "mimetype": "text/x-python",
      "name": "python",
      "nbconvert_exporter": "python",
      "pygments_lexer": "ipython3",
      "version": "3.6.12"
    },
    "colab": {
      "name": "modin_different_cores with graph (1).ipynb",
      "provenance": []
    }
  },
  "cells": [
    {
      "cell_type": "code",
      "metadata": {
        "id": "ZS0qgou355lX"
      },
      "source": [
        "link=r'C:\\Users\\kumar\\Downloads\\5m-Sales-Records\\5m.csv'"
      ],
      "execution_count": null,
      "outputs": []
    },
    {
      "cell_type": "code",
      "metadata": {
        "id": "VJS9sUNg55le",
        "outputId": "fd0aae41-263d-4dee-8c49-6efaae2aea5f"
      },
      "source": [
        "import multiprocessing\n",
        "multiprocessing.cpu_count()"
      ],
      "execution_count": null,
      "outputs": [
        {
          "output_type": "execute_result",
          "data": {
            "text/plain": [
              "8"
            ]
          },
          "metadata": {
            "tags": []
          },
          "execution_count": 3
        }
      ]
    },
    {
      "cell_type": "code",
      "metadata": {
        "id": "2KATDuVX55lg",
        "outputId": "3562702f-40a0-445f-e261-11365508eff0"
      },
      "source": [
        "pip install modin[all]"
      ],
      "execution_count": null,
      "outputs": [
        {
          "output_type": "stream",
          "text": [
            "Collecting modin[all]\n",
            "  Downloading modin-0.8.2-py3-none-win_amd64.whl (533 kB)\n",
            "Collecting pandas==1.1.4\n",
            "  Downloading pandas-1.1.4-cp36-cp36m-win_amd64.whl (8.7 MB)\n",
            "Requirement already satisfied: packaging in c:\\users\\kumar\\anaconda3\\envs\\tensorflow\\lib\\site-packages (from modin[all]) (20.4)\n",
            "Collecting pyarrow==1.0; extra == \"all\"\n",
            "  Downloading pyarrow-1.0.0-cp36-cp36m-win_amd64.whl (10.5 MB)\n",
            "Collecting cloudpickle==1.4.1; extra == \"all\"\n",
            "  Downloading cloudpickle-1.4.1-py3-none-any.whl (26 kB)\n",
            "Collecting ray>=1.0.0; extra == \"all\"\n",
            "  Downloading ray-1.0.1.post1-cp36-cp36m-win_amd64.whl (14.9 MB)\n",
            "Collecting dask<=2.19.0,>=2.12.0; extra == \"all\"\n",
            "  Downloading dask-2.19.0-py3-none-any.whl (824 kB)\n",
            "Collecting boto3==1.4.8; extra == \"all\"\n",
            "  Downloading boto3-1.4.8-py2.py3-none-any.whl (128 kB)\n",
            "Collecting rpyc==4.1.5; extra == \"all\"\n",
            "  Downloading rpyc-4.1.5-py3-none-any.whl (68 kB)\n",
            "Collecting distributed<=2.19.0,>=2.12.0; extra == \"all\"\n",
            "  Downloading distributed-2.19.0-py3-none-any.whl (643 kB)\n",
            "Requirement already satisfied: numpy>=1.15.4 in c:\\users\\kumar\\anaconda3\\envs\\tensorflow\\lib\\site-packages (from pandas==1.1.4->modin[all]) (1.18.5)\n",
            "Requirement already satisfied: python-dateutil>=2.7.3 in c:\\users\\kumar\\anaconda3\\envs\\tensorflow\\lib\\site-packages (from pandas==1.1.4->modin[all]) (2.8.1)\n",
            "Requirement already satisfied: pytz>=2017.2 in c:\\users\\kumar\\anaconda3\\envs\\tensorflow\\lib\\site-packages (from pandas==1.1.4->modin[all]) (2020.1)\n",
            "Requirement already satisfied: pyparsing>=2.0.2 in c:\\users\\kumar\\anaconda3\\envs\\tensorflow\\lib\\site-packages (from packaging->modin[all]) (2.4.7)\n",
            "Requirement already satisfied: six in c:\\users\\kumar\\anaconda3\\envs\\tensorflow\\lib\\site-packages (from packaging->modin[all]) (1.15.0)\n",
            "Collecting redis<3.5.0,>=3.3.2\n",
            "  Downloading redis-3.4.1-py2.py3-none-any.whl (71 kB)\n",
            "Requirement already satisfied: protobuf>=3.8.0 in c:\\users\\kumar\\anaconda3\\envs\\tensorflow\\lib\\site-packages (from ray>=1.0.0; extra == \"all\"->modin[all]) (3.13.0)\n",
            "Requirement already satisfied: jsonschema in c:\\users\\kumar\\anaconda3\\envs\\tensorflow\\lib\\site-packages (from ray>=1.0.0; extra == \"all\"->modin[all]) (3.2.0)\n",
            "Collecting gpustat\n",
            "  Downloading gpustat-0.6.0.tar.gz (78 kB)\n",
            "Requirement already satisfied: colorama in c:\\users\\kumar\\anaconda3\\envs\\tensorflow\\lib\\site-packages (from ray>=1.0.0; extra == \"all\"->modin[all]) (0.4.4)\n",
            "Collecting aiohttp-cors\n",
            "  Downloading aiohttp_cors-0.7.0-py3-none-any.whl (27 kB)\n",
            "Collecting opencensus\n",
            "  Downloading opencensus-0.7.11-py2.py3-none-any.whl (127 kB)\n",
            "Requirement already satisfied: prometheus-client>=0.7.1 in c:\\users\\kumar\\anaconda3\\envs\\tensorflow\\lib\\site-packages (from ray>=1.0.0; extra == \"all\"->modin[all]) (0.8.0)\n",
            "Requirement already satisfied: pyyaml in c:\\users\\kumar\\anaconda3\\envs\\tensorflow\\lib\\site-packages (from ray>=1.0.0; extra == \"all\"->modin[all]) (5.3.1)\n",
            "Collecting aioredis\n",
            "  Downloading aioredis-1.3.1-py3-none-any.whl (65 kB)\n",
            "Collecting colorful\n",
            "  Downloading colorful-0.5.4-py2.py3-none-any.whl (201 kB)\n",
            "Requirement already satisfied: click>=7.0 in c:\\users\\kumar\\anaconda3\\envs\\tensorflow\\lib\\site-packages (from ray>=1.0.0; extra == \"all\"->modin[all]) (7.1.2)\n",
            "Requirement already satisfied: aiohttp in c:\\users\\kumar\\anaconda3\\envs\\tensorflow\\lib\\site-packages (from ray>=1.0.0; extra == \"all\"->modin[all]) (3.6.3)\n",
            "Collecting google\n",
            "  Downloading google-3.0.0-py2.py3-none-any.whl (45 kB)\n",
            "Requirement already satisfied: msgpack<2.0.0,>=1.0.0 in c:\\users\\kumar\\anaconda3\\envs\\tensorflow\\lib\\site-packages (from ray>=1.0.0; extra == \"all\"->modin[all]) (1.0.0)\n",
            "Collecting py-spy>=0.2.0Note: you may need to restart the kernel to use updated packages.\n",
            "  Downloading py_spy-0.3.3-py2.py3-none-win_amd64.whl (1.4 MB)\n",
            "Collecting filelock\n",
            "  Using cached filelock-3.0.12-py3-none-any.whl (7.6 kB)\n",
            "Requirement already satisfied: requests in c:\\users\\kumar\\anaconda3\\envs\\tensorflow\\lib\\site-packages (from ray>=1.0.0; extra == \"all\"->modin[all]) (2.24.0)\n",
            "Collecting grpcio>=1.28.1\n",
            "  Downloading grpcio-1.34.0-cp36-cp36m-win_amd64.whl (2.9 MB)\n",
            "Collecting jmespath<1.0.0,>=0.7.1\n",
            "  Downloading jmespath-0.10.0-py2.py3-none-any.whl (24 kB)\n",
            "\n"
          ],
          "name": "stdout"
        },
        {
          "output_type": "stream",
          "text": [
            "ERROR: After October 2020 you may experience errors when installing or updating packages. This is because pip will change the way that it resolves dependency conflicts.\n",
            "\n",
            "We recommend you use --use-feature=2020-resolver to test your packages with the new resolver before it becomes the default.\n",
            "\n",
            "spyder 4.1.5 requires pyqt5<5.13; python_version >= \"3\", which is not installed.\n",
            "spyder 4.1.5 requires pyqtwebengine<5.13; python_version >= \"3\", which is not installed.\n",
            "tensorflow 2.0.0 requires gast==0.2.2, but you'll have gast 0.3.3 which is incompatible.\n"
          ],
          "name": "stderr"
        },
        {
          "output_type": "stream",
          "text": [
            "Collecting botocore<1.9.0,>=1.8.0\n",
            "  Downloading botocore-1.8.50-py2.py3-none-any.whl (4.1 MB)\n",
            "Collecting s3transfer<0.2.0,>=0.1.10\n",
            "  Downloading s3transfer-0.1.13-py2.py3-none-any.whl (59 kB)\n",
            "Collecting plumbum\n",
            "  Downloading plumbum-1.6.9-py2.py3-none-any.whl (115 kB)\n",
            "Requirement already satisfied: setuptools in c:\\users\\kumar\\anaconda3\\envs\\tensorflow\\lib\\site-packages (from distributed<=2.19.0,>=2.12.0; extra == \"all\"->modin[all]) (50.3.1.post20201107)\n",
            "Requirement already satisfied: zict>=0.1.3 in c:\\users\\kumar\\anaconda3\\envs\\tensorflow\\lib\\site-packages (from distributed<=2.19.0,>=2.12.0; extra == \"all\"->modin[all]) (2.0.0)\n",
            "Requirement already satisfied: sortedcontainers!=2.0.0,!=2.0.1 in c:\\users\\kumar\\anaconda3\\envs\\tensorflow\\lib\\site-packages (from distributed<=2.19.0,>=2.12.0; extra == \"all\"->modin[all]) (2.2.2)\n",
            "Requirement already satisfied: tornado>=5; python_version < \"3.8\" in c:\\users\\kumar\\anaconda3\\envs\\tensorflow\\lib\\site-packages (from distributed<=2.19.0,>=2.12.0; extra == \"all\"->modin[all]) (6.0.4)\n",
            "Requirement already satisfied: tblib>=1.6.0 in c:\\users\\kumar\\anaconda3\\envs\\tensorflow\\lib\\site-packages (from distributed<=2.19.0,>=2.12.0; extra == \"all\"->modin[all]) (1.7.0)\n",
            "Requirement already satisfied: contextvars; python_version < \"3.7\" in c:\\users\\kumar\\anaconda3\\envs\\tensorflow\\lib\\site-packages (from distributed<=2.19.0,>=2.12.0; extra == \"all\"->modin[all]) (2.4)\n",
            "Requirement already satisfied: toolz>=0.8.2 in c:\\users\\kumar\\anaconda3\\envs\\tensorflow\\lib\\site-packages (from distributed<=2.19.0,>=2.12.0; extra == \"all\"->modin[all]) (0.11.1)\n",
            "Requirement already satisfied: psutil>=5.0 in c:\\users\\kumar\\anaconda3\\envs\\tensorflow\\lib\\site-packages (from distributed<=2.19.0,>=2.12.0; extra == \"all\"->modin[all]) (5.7.2)\n",
            "Requirement already satisfied: pyrsistent>=0.14.0 in c:\\users\\kumar\\anaconda3\\envs\\tensorflow\\lib\\site-packages (from jsonschema->ray>=1.0.0; extra == \"all\"->modin[all]) (0.17.3)\n",
            "Requirement already satisfied: attrs>=17.4.0 in c:\\users\\kumar\\anaconda3\\envs\\tensorflow\\lib\\site-packages (from jsonschema->ray>=1.0.0; extra == \"all\"->modin[all]) (20.3.0)\n",
            "Requirement already satisfied: importlib-metadata; python_version < \"3.8\" in c:\\users\\kumar\\anaconda3\\envs\\tensorflow\\lib\\site-packages (from jsonschema->ray>=1.0.0; extra == \"all\"->modin[all]) (2.0.0)\n",
            "Collecting nvidia-ml-py3>=7.352.0\n",
            "  Downloading nvidia-ml-py3-7.352.0.tar.gz (19 kB)\n",
            "Collecting blessings>=1.6\n",
            "  Downloading blessings-1.7-py3-none-any.whl (18 kB)\n",
            "Collecting google-api-core<2.0.0,>=1.0.0\n",
            "  Downloading google_api_core-1.24.1-py2.py3-none-any.whl (92 kB)\n",
            "Collecting opencensus-context==0.1.2\n",
            "  Downloading opencensus_context-0.1.2-py2.py3-none-any.whl (4.4 kB)\n",
            "Requirement already satisfied: async-timeout in c:\\users\\kumar\\anaconda3\\envs\\tensorflow\\lib\\site-packages (from aioredis->ray>=1.0.0; extra == \"all\"->modin[all]) (3.0.1)\n",
            "Collecting hiredis\n",
            "  Downloading hiredis-1.1.0-cp36-cp36m-win_amd64.whl (15 kB)\n",
            "Requirement already satisfied: chardet<4.0,>=2.0 in c:\\users\\kumar\\anaconda3\\envs\\tensorflow\\lib\\site-packages (from aiohttp->ray>=1.0.0; extra == \"all\"->modin[all]) (3.0.4)\n",
            "Requirement already satisfied: idna-ssl>=1.0; python_version < \"3.7\" in c:\\users\\kumar\\anaconda3\\envs\\tensorflow\\lib\\site-packages (from aiohttp->ray>=1.0.0; extra == \"all\"->modin[all]) (1.1.0)\n",
            "Requirement already satisfied: typing-extensions>=3.6.5; python_version < \"3.7\" in c:\\users\\kumar\\anaconda3\\envs\\tensorflow\\lib\\site-packages (from aiohttp->ray>=1.0.0; extra == \"all\"->modin[all]) (3.7.4.3)\n",
            "Collecting yarl<1.6.0,>=1.0\n",
            "  Downloading yarl-1.5.1-cp36-cp36m-win_amd64.whl (127 kB)\n",
            "Requirement already satisfied: multidict<5.0,>=4.5 in c:\\users\\kumar\\anaconda3\\envs\\tensorflow\\lib\\site-packages (from aiohttp->ray>=1.0.0; extra == \"all\"->modin[all]) (4.7.6)\n",
            "Collecting beautifulsoup4\n",
            "  Downloading beautifulsoup4-4.9.3-py3-none-any.whl (115 kB)\n",
            "Requirement already satisfied: certifi>=2017.4.17 in c:\\users\\kumar\\anaconda3\\envs\\tensorflow\\lib\\site-packages (from requests->ray>=1.0.0; extra == \"all\"->modin[all]) (2020.11.8)\n",
            "Requirement already satisfied: urllib3!=1.25.0,!=1.25.1,<1.26,>=1.21.1 in c:\\users\\kumar\\anaconda3\\envs\\tensorflow\\lib\\site-packages (from requests->ray>=1.0.0; extra == \"all\"->modin[all]) (1.25.11)\n",
            "Requirement already satisfied: idna<3,>=2.5 in c:\\users\\kumar\\anaconda3\\envs\\tensorflow\\lib\\site-packages (from requests->ray>=1.0.0; extra == \"all\"->modin[all]) (2.10)\n",
            "Requirement already satisfied: docutils>=0.10 in c:\\users\\kumar\\anaconda3\\envs\\tensorflow\\lib\\site-packages (from botocore<1.9.0,>=1.8.0->boto3==1.4.8; extra == \"all\"->modin[all]) (0.16)\n",
            "Requirement already satisfied: heapdict in c:\\users\\kumar\\anaconda3\\envs\\tensorflow\\lib\\site-packages (from zict>=0.1.3->distributed<=2.19.0,>=2.12.0; extra == \"all\"->modin[all]) (1.0.1)\n",
            "Requirement already satisfied: immutables>=0.9 in c:\\users\\kumar\\anaconda3\\envs\\tensorflow\\lib\\site-packages (from contextvars; python_version < \"3.7\"->distributed<=2.19.0,>=2.12.0; extra == \"all\"->modin[all]) (0.14)\n",
            "Requirement already satisfied: zipp>=0.5 in c:\\users\\kumar\\anaconda3\\envs\\tensorflow\\lib\\site-packages (from importlib-metadata; python_version < \"3.8\"->jsonschema->ray>=1.0.0; extra == \"all\"->modin[all]) (3.4.0)\n",
            "Collecting googleapis-common-protos<2.0dev,>=1.6.0\n",
            "  Downloading googleapis_common_protos-1.52.0-py2.py3-none-any.whl (100 kB)\n",
            "Requirement already satisfied: google-auth<2.0dev,>=1.21.1 in c:\\users\\kumar\\anaconda3\\envs\\tensorflow\\lib\\site-packages (from google-api-core<2.0.0,>=1.0.0->opencensus->ray>=1.0.0; extra == \"all\"->modin[all]) (1.23.0)\n",
            "Collecting soupsieve>1.2; python_version >= \"3.0\"\n",
            "  Downloading soupsieve-2.1-py3-none-any.whl (32 kB)\n",
            "Requirement already satisfied: pyasn1-modules>=0.2.1 in c:\\users\\kumar\\anaconda3\\envs\\tensorflow\\lib\\site-packages (from google-auth<2.0dev,>=1.21.1->google-api-core<2.0.0,>=1.0.0->opencensus->ray>=1.0.0; extra == \"all\"->modin[all]) (0.2.8)\n",
            "Requirement already satisfied: cachetools<5.0,>=2.0.0 in c:\\users\\kumar\\anaconda3\\envs\\tensorflow\\lib\\site-packages (from google-auth<2.0dev,>=1.21.1->google-api-core<2.0.0,>=1.0.0->opencensus->ray>=1.0.0; extra == \"all\"->modin[all]) (4.1.1)\n",
            "Requirement already satisfied: rsa<5,>=3.1.4; python_version >= \"3.5\" in c:\\users\\kumar\\anaconda3\\envs\\tensorflow\\lib\\site-packages (from google-auth<2.0dev,>=1.21.1->google-api-core<2.0.0,>=1.0.0->opencensus->ray>=1.0.0; extra == \"all\"->modin[all]) (4.6)\n",
            "Requirement already satisfied: pyasn1<0.5.0,>=0.4.6 in c:\\users\\kumar\\anaconda3\\envs\\tensorflow\\lib\\site-packages (from pyasn1-modules>=0.2.1->google-auth<2.0dev,>=1.21.1->google-api-core<2.0.0,>=1.0.0->opencensus->ray>=1.0.0; extra == \"all\"->modin[all]) (0.4.8)\n",
            "Building wheels for collected packages: gpustat, nvidia-ml-py3\n",
            "  Building wheel for gpustat (setup.py): started\n",
            "  Building wheel for gpustat (setup.py): finished with status 'done'\n",
            "  Created wheel for gpustat: filename=gpustat-0.6.0-py3-none-any.whl size=12626 sha256=f00893099bb08216f0691019d1780095df42b68142c461403d37f67b1f31a162\n",
            "  Stored in directory: c:\\users\\kumar\\appdata\\local\\pip\\cache\\wheels\\50\\da\\35\\fe2cfb3bc47822299f5e124a599d56f00b30ec0b328db16b9f\n",
            "  Building wheel for nvidia-ml-py3 (setup.py): started\n",
            "  Building wheel for nvidia-ml-py3 (setup.py): finished with status 'done'\n",
            "  Created wheel for nvidia-ml-py3: filename=nvidia_ml_py3-7.352.0-py3-none-any.whl size=19196 sha256=fa46a833a4ca8d7f77fc3352f03c8630c92dd57390c0782bf0074d680f9a0ca9\n",
            "  Stored in directory: c:\\users\\kumar\\appdata\\local\\pip\\cache\\wheels\\7f\\26\\a3\\33f2079871e2bebb3f53a2b21c3ec64129b8efdd18a6263a52\n",
            "Successfully built gpustat nvidia-ml-py3\n",
            "Installing collected packages: pandas, pyarrow, cloudpickle, redis, nvidia-ml-py3, blessings, gpustat, aiohttp-cors, googleapis-common-protos, google-api-core, opencensus-context, opencensus, hiredis, aioredis, colorful, soupsieve, beautifulsoup4, google, py-spy, filelock, grpcio, ray, dask, jmespath, botocore, s3transfer, boto3, plumbum, rpyc, distributed, modin, yarl\n",
            "  Attempting uninstall: pandas\n",
            "    Found existing installation: pandas 1.1.3\n",
            "    Uninstalling pandas-1.1.3:\n",
            "      Successfully uninstalled pandas-1.1.3\n",
            "  Attempting uninstall: cloudpickle\n",
            "    Found existing installation: cloudpickle 1.6.0\n",
            "    Uninstalling cloudpickle-1.6.0:\n",
            "      Successfully uninstalled cloudpickle-1.6.0\n",
            "  Attempting uninstall: grpcio\n",
            "    Found existing installation: grpcio 1.14.1\n",
            "    Uninstalling grpcio-1.14.1:\n",
            "      Successfully uninstalled grpcio-1.14.1\n",
            "  Attempting uninstall: dask\n",
            "    Found existing installation: dask 2.30.0\n",
            "    Uninstalling dask-2.30.0:\n",
            "      Successfully uninstalled dask-2.30.0\n",
            "  Attempting uninstall: distributed\n",
            "    Found existing installation: distributed 2.30.1\n",
            "    Uninstalling distributed-2.30.1:\n",
            "      Successfully uninstalled distributed-2.30.1\n",
            "  Attempting uninstall: yarl\n",
            "    Found existing installation: yarl 1.6.2\n",
            "    Uninstalling yarl-1.6.2:\n",
            "      Successfully uninstalled yarl-1.6.2\n",
            "Successfully installed aiohttp-cors-0.7.0 aioredis-1.3.1 beautifulsoup4-4.9.3 blessings-1.7 boto3-1.4.8 botocore-1.8.50 cloudpickle-1.4.1 colorful-0.5.4 dask-2.19.0 distributed-2.19.0 filelock-3.0.12 google-3.0.0 google-api-core-1.24.1 googleapis-common-protos-1.52.0 gpustat-0.6.0 grpcio-1.34.0 hiredis-1.1.0 jmespath-0.10.0 modin-0.8.2 nvidia-ml-py3-7.352.0 opencensus-0.7.11 opencensus-context-0.1.2 pandas-1.1.4 plumbum-1.6.9 py-spy-0.3.3 pyarrow-1.0.0 ray-1.0.1.post1 redis-3.4.1 rpyc-4.1.5 s3transfer-0.1.13 soupsieve-2.1 yarl-1.5.1\n"
          ],
          "name": "stdout"
        }
      ]
    },
    {
      "cell_type": "code",
      "metadata": {
        "id": "KXHDlgVi55lh"
      },
      "source": [
        "import time\n",
        "import ray"
      ],
      "execution_count": null,
      "outputs": []
    },
    {
      "cell_type": "code",
      "metadata": {
        "id": "jMsbUCX255li",
        "outputId": "2c196f80-1cdf-47d6-fbfe-ed27b965760a"
      },
      "source": [
        "ray.init(num_cpus=4)\n",
        "import modin.pandas as mpd\n",
        "start=time.time()\n",
        "df=mpd.read_csv(link)\n",
        "end=time.time()\n",
        "ray.shutdown()\n",
        "print(end-start)"
      ],
      "execution_count": null,
      "outputs": [
        {
          "output_type": "stream",
          "text": [
            "2020-12-21 16:59:36,483\tINFO services.py:1092 -- View the Ray dashboard at \u001b[1m\u001b[32mhttp://127.0.0.1:8265\u001b[39m\u001b[22m\n"
          ],
          "name": "stderr"
        },
        {
          "output_type": "stream",
          "text": [
            "9.983450889587402\n"
          ],
          "name": "stdout"
        }
      ]
    },
    {
      "cell_type": "code",
      "metadata": {
        "id": "8uEun32X55lj",
        "outputId": "037744a8-dfa0-49ee-b160-a03e1135e45a"
      },
      "source": [
        "ray.init(num_cpus=3)\n",
        "import modin.pandas as mpd\n",
        "start=time.time()\n",
        "df=mpd.read_csv(link)\n",
        "end=time.time()\n",
        "ray.shutdown()\n",
        "print(end-start)"
      ],
      "execution_count": null,
      "outputs": [
        {
          "output_type": "stream",
          "text": [
            "2020-12-21 16:57:27,007\tINFO services.py:1092 -- View the Ray dashboard at \u001b[1m\u001b[32mhttp://127.0.0.1:8265\u001b[39m\u001b[22m\n"
          ],
          "name": "stderr"
        },
        {
          "output_type": "stream",
          "text": [
            "13.591470003128052\n"
          ],
          "name": "stdout"
        }
      ]
    },
    {
      "cell_type": "code",
      "metadata": {
        "id": "bm4OgpF755lk",
        "outputId": "a86b0e0c-5434-4294-8b8c-1858ba0d15dc"
      },
      "source": [
        "ray.init(num_cpus=2)\n",
        "import modin.pandas as mpd\n",
        "start=time.time()\n",
        "df=mpd.read_csv(link)\n",
        "end=time.time()\n",
        "ray.shutdown()\n",
        "print(end-start)"
      ],
      "execution_count": null,
      "outputs": [
        {
          "output_type": "stream",
          "text": [
            "2020-12-21 16:58:09,069\tINFO services.py:1092 -- View the Ray dashboard at \u001b[1m\u001b[32mhttp://127.0.0.1:8265\u001b[39m\u001b[22m\n"
          ],
          "name": "stderr"
        },
        {
          "output_type": "stream",
          "text": [
            "15.087735414505005\n"
          ],
          "name": "stdout"
        }
      ]
    },
    {
      "cell_type": "code",
      "metadata": {
        "id": "PHpEvI0g55ll",
        "outputId": "bcefc36a-b94d-48ef-fbeb-1712c1d33e72"
      },
      "source": [
        "ray.init(num_cpus=1)\n",
        "import modin.pandas as mpd\n",
        "start=time.time()\n",
        "df=mpd.read_csv(link)\n",
        "end=time.time()\n",
        "ray.shutdown()\n",
        "print(end-start)"
      ],
      "execution_count": null,
      "outputs": [
        {
          "output_type": "stream",
          "text": [
            "2020-12-21 16:58:48,646\tINFO services.py:1092 -- View the Ray dashboard at \u001b[1m\u001b[32mhttp://127.0.0.1:8265\u001b[39m\u001b[22m\n"
          ],
          "name": "stderr"
        },
        {
          "output_type": "stream",
          "text": [
            "24.541160345077515\n"
          ],
          "name": "stdout"
        }
      ]
    },
    {
      "cell_type": "markdown",
      "metadata": {
        "id": "Yf47AStzEe8O"
      },
      "source": [
        "Specifying num_cpus limits the number of processors that Modin uses. You may also specify more processors than you have available on your machine, however this will not improve the performance (and might end up hurting the performance of the system)."
      ]
    },
    {
      "cell_type": "code",
      "metadata": {
        "id": "F6D_0zcb55lm"
      },
      "source": [
        "import matplotlib.pyplot as plt\r\n",
        "import seaborn as sns"
      ],
      "execution_count": 1,
      "outputs": []
    },
    {
      "cell_type": "code",
      "metadata": {
        "id": "nv43l7o855ln"
      },
      "source": [
        "num_cores=['1 core cpu','2 core cpu','3 core cpu','4 core cpu']\r\n",
        "time=[24.54, 15.08, 13.59, 9.98]"
      ],
      "execution_count": 11,
      "outputs": []
    },
    {
      "cell_type": "code",
      "metadata": {
        "colab": {
          "base_uri": "https://localhost:8080/",
          "height": 404
        },
        "id": "zaVPtgb8711j",
        "outputId": "f58d6ec8-ea21-4471-82c5-36fd0d201ec6"
      },
      "source": [
        "plt.figure(figsize=(8,6))\r\n",
        "plt.bar(x=num_cores, height=time)\r\n",
        "#plt.xticks(rotation=45)\r\n",
        "plt.xlabel('Number of cores')\r\n",
        "plt.ylabel('Time taken')\r\n",
        "plt.title('Graph showing time taken by modin using different CPU cores')\r\n",
        "for i in range(4):\r\n",
        "  plt.text(x=num_cores[i], y=time[i]+0.25, s=time[i])\r\n",
        "#for index, value in enumerate(time):\r\n",
        "#  plt.text(value, index, str(value))\r\n",
        "plt.show()"
      ],
      "execution_count": 37,
      "outputs": [
        {
          "output_type": "display_data",
          "data": {
            "image/png": "[encoded data removed]",
            "text/plain": [
              "<Figure size 576x432 with 1 Axes>"
            ]
          },
          "metadata": {
            "tags": [],
            "needs_background": "light"
          }
        }
      ]
    },
    {
      "cell_type": "markdown",
      "metadata": {
        "id": "53AkZ4H9Ci62"
      },
      "source": [
        "1. We know that modin uses all of the CPU cores present in the system. By observing the above graph we can say that as number of CPU cores is increases time decreases, and we can finally conclude that modin uses all CPU cores and its performance is based on number of cores available.\r\n"
      ]
    }
  ]
}