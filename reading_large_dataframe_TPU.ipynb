{
  "nbformat": 4,
  "nbformat_minor": 0,
  "metadata": {
    "kernelspec": {
      "display_name": "Python 3",
      "language": "python",
      "name": "python3"
    },
    "language_info": {
      "codemirror_mode": {
        "name": "ipython",
        "version": 3
      },
      "file_extension": ".py",
      "mimetype": "text/x-python",
      "name": "python",
      "nbconvert_exporter": "python",
      "pygments_lexer": "ipython3",
      "version": "3.7.7"
    },
    "colab": {
      "name": "reading_large_dataframe_TPU.ipynb",
      "provenance": [],
      "collapsed_sections": []
    },
    "accelerator": "TPU"
  },
  "cells": [
    {
      "cell_type": "markdown",
      "metadata": {
        "id": "FsVgpNpWrmKX"
      },
      "source": [
        "## Imp Libraries"
      ]
    },
    {
      "cell_type": "code",
      "metadata": {
        "colab": {
          "base_uri": "https://localhost:8080/"
        },
        "id": "avlwr_4Vm6XK",
        "outputId": "b7d2682b-05a9-4f80-d424-cf8711764b1b"
      },
      "source": [
        "from google.colab import drive\n",
        "drive.mount('/content/drive')"
      ],
      "execution_count": null,
      "outputs": [
        {
          "output_type": "stream",
          "text": [
            "Mounted at /content/drive\n"
          ],
          "name": "stdout"
        }
      ]
    },
    {
      "cell_type": "code",
      "metadata": {
        "id": "YSRA0x6SrmKX"
      },
      "source": [
        "import numpy as np\n",
        "import time \n",
        "from datetime import date"
      ],
      "execution_count": null,
      "outputs": []
    },
    {
      "cell_type": "markdown",
      "metadata": {
        "id": "slWLf9QiidPD"
      },
      "source": [
        "# Dataset"
      ]
    },
    {
      "cell_type": "markdown",
      "metadata": {
        "id": "SCexXSPpikhH"
      },
      "source": [
        "A sales data record of 5000000* 14, with columns Region, Country, Item Type, Sales Channel, Order Priority, Order Date, Order ID, Ship date, units sold, unit price, unit cost, Total Revenue, Total Cost, Total Profit. \n",
        "\n",
        "No NA/ NAN is present in the dataset. \n",
        "\n",
        "The data is taken from http://eforexcel.com/wp/downloads-18-sample-csv-files-data-sets-for-testing-sales/ "
      ]
    },
    {
      "cell_type": "markdown",
      "metadata": {
        "id": "Jw1laIR3rmKY"
      },
      "source": [
        "## Pandas\n",
        "\n",
        "Pandas is probably the most popular method of reading datasets and is also the default on Kaggle. It has a lot of options, flexibility and functions for reading and processing data."
      ]
    },
    {
      "cell_type": "code",
      "metadata": {
        "id": "uPmETfekrmKY"
      },
      "source": [
        "link  = '/content/drive/MyDrive/5m.csv'"
      ],
      "execution_count": null,
      "outputs": []
    },
    {
      "cell_type": "code",
      "metadata": {
        "colab": {
          "base_uri": "https://localhost:8080/"
        },
        "id": "jlF4_InCrmKY",
        "outputId": "fc209612-fb1c-49a0-d952-b37160171249"
      },
      "source": [
        "import pandas as pd          #Hardware Accelerator: TPU\n",
        "start = time.time()\n",
        "df = pd.read_csv(link)\n",
        "end = time.time() \n",
        "print(end-start)"
      ],
      "execution_count": null,
      "outputs": [
        {
          "output_type": "stream",
          "text": [
            "10.771544694900513\n"
          ],
          "name": "stdout"
        }
      ]
    },
    {
      "cell_type": "code",
      "metadata": {
        "colab": {
          "base_uri": "https://localhost:8080/"
        },
        "id": "Pth31-gqrmKZ",
        "outputId": "5430ae7f-7504-497e-cb20-5c106bc35caf"
      },
      "source": [
        "df.shape"
      ],
      "execution_count": null,
      "outputs": [
        {
          "output_type": "execute_result",
          "data": {
            "text/plain": [
              "(5000000, 14)"
            ]
          },
          "metadata": {
            "tags": []
          },
          "execution_count": 35
        }
      ]
    },
    {
      "cell_type": "code",
      "metadata": {
        "colab": {
          "base_uri": "https://localhost:8080/",
          "height": 246
        },
        "id": "-LaQcRYSrmKZ",
        "outputId": "5d9ac275-ec0b-4df3-dbac-8a5b7665cc43"
      },
      "source": [
        "df.head()"
      ],
      "execution_count": null,
      "outputs": [
        {
          "output_type": "execute_result",
          "data": {
            "text/html": [
              "<div>\n",
              "<style scoped>\n",
              "    .dataframe tbody tr th:only-of-type {\n",
              "        vertical-align: middle;\n",
              "    }\n",
              "\n",
              "    .dataframe tbody tr th {\n",
              "        vertical-align: top;\n",
              "    }\n",
              "\n",
              "    .dataframe thead th {\n",
              "        text-align: right;\n",
              "    }\n",
              "</style>\n",
              "<table border=\"1\" class=\"dataframe\">\n",
              "  <thead>\n",
              "    <tr style=\"text-align: right;\">\n",
              "      <th></th>\n",
              "      <th>Region</th>\n",
              "      <th>Country</th>\n",
              "      <th>Item Type</th>\n",
              "      <th>Sales Channel</th>\n",
              "      <th>Order Priority</th>\n",
              "      <th>Order Date</th>\n",
              "      <th>Order ID</th>\n",
              "      <th>Ship Date</th>\n",
              "      <th>Units Sold</th>\n",
              "      <th>Unit Price</th>\n",
              "      <th>Unit Cost</th>\n",
              "      <th>Total Revenue</th>\n",
              "      <th>Total Cost</th>\n",
              "      <th>Total Profit</th>\n",
              "    </tr>\n",
              "  </thead>\n",
              "  <tbody>\n",
              "    <tr>\n",
              "      <th>0</th>\n",
              "      <td>Australia and Oceania</td>\n",
              "      <td>Palau</td>\n",
              "      <td>Office Supplies</td>\n",
              "      <td>Online</td>\n",
              "      <td>H</td>\n",
              "      <td>3/6/2016</td>\n",
              "      <td>517073523</td>\n",
              "      <td>3/26/2016</td>\n",
              "      <td>2401</td>\n",
              "      <td>651.21</td>\n",
              "      <td>524.96</td>\n",
              "      <td>1563555.21</td>\n",
              "      <td>1260428.96</td>\n",
              "      <td>303126.25</td>\n",
              "    </tr>\n",
              "    <tr>\n",
              "      <th>1</th>\n",
              "      <td>Europe</td>\n",
              "      <td>Poland</td>\n",
              "      <td>Beverages</td>\n",
              "      <td>Online</td>\n",
              "      <td>L</td>\n",
              "      <td>4/18/2010</td>\n",
              "      <td>380507028</td>\n",
              "      <td>5/26/2010</td>\n",
              "      <td>9340</td>\n",
              "      <td>47.45</td>\n",
              "      <td>31.79</td>\n",
              "      <td>443183.00</td>\n",
              "      <td>296918.60</td>\n",
              "      <td>146264.40</td>\n",
              "    </tr>\n",
              "    <tr>\n",
              "      <th>2</th>\n",
              "      <td>North America</td>\n",
              "      <td>Canada</td>\n",
              "      <td>Cereal</td>\n",
              "      <td>Online</td>\n",
              "      <td>M</td>\n",
              "      <td>1/8/2015</td>\n",
              "      <td>504055583</td>\n",
              "      <td>1/31/2015</td>\n",
              "      <td>103</td>\n",
              "      <td>205.70</td>\n",
              "      <td>117.11</td>\n",
              "      <td>21187.10</td>\n",
              "      <td>12062.33</td>\n",
              "      <td>9124.77</td>\n",
              "    </tr>\n",
              "    <tr>\n",
              "      <th>3</th>\n",
              "      <td>Europe</td>\n",
              "      <td>Belarus</td>\n",
              "      <td>Snacks</td>\n",
              "      <td>Online</td>\n",
              "      <td>C</td>\n",
              "      <td>1/19/2014</td>\n",
              "      <td>954955518</td>\n",
              "      <td>2/27/2014</td>\n",
              "      <td>1414</td>\n",
              "      <td>152.58</td>\n",
              "      <td>97.44</td>\n",
              "      <td>215748.12</td>\n",
              "      <td>137780.16</td>\n",
              "      <td>77967.96</td>\n",
              "    </tr>\n",
              "    <tr>\n",
              "      <th>4</th>\n",
              "      <td>Middle East and North Africa</td>\n",
              "      <td>Oman</td>\n",
              "      <td>Cereal</td>\n",
              "      <td>Offline</td>\n",
              "      <td>H</td>\n",
              "      <td>4/26/2019</td>\n",
              "      <td>970755660</td>\n",
              "      <td>6/2/2019</td>\n",
              "      <td>7027</td>\n",
              "      <td>205.70</td>\n",
              "      <td>117.11</td>\n",
              "      <td>1445453.90</td>\n",
              "      <td>822931.97</td>\n",
              "      <td>622521.93</td>\n",
              "    </tr>\n",
              "  </tbody>\n",
              "</table>\n",
              "</div>"
            ],
            "text/plain": [
              "                         Region  Country  ...  Total Cost Total Profit\n",
              "0         Australia and Oceania    Palau  ...  1260428.96    303126.25\n",
              "1                        Europe   Poland  ...   296918.60    146264.40\n",
              "2                 North America   Canada  ...    12062.33      9124.77\n",
              "3                        Europe  Belarus  ...   137780.16     77967.96\n",
              "4  Middle East and North Africa     Oman  ...   822931.97    622521.93\n",
              "\n",
              "[5 rows x 14 columns]"
            ]
          },
          "metadata": {
            "tags": []
          },
          "execution_count": 36
        }
      ]
    },
    {
      "cell_type": "markdown",
      "metadata": {
        "id": "0nC5RWUlrmKa"
      },
      "source": [
        "## Dask\n",
        "Dask provides a framework to scale pandas workflows natively using a parallel processing architecture. For those of you who have used Spark, you will find an uncanny similarity between the two.\n",
        "\n"
      ]
    },
    {
      "cell_type": "code",
      "metadata": {
        "id": "EiECP_HPBCGp",
        "colab": {
          "base_uri": "https://localhost:8080/"
        },
        "outputId": "ec787afa-e30d-4c1d-cf73-72dbf3070a76"
      },
      "source": [
        "pip install dask[complete]"
      ],
      "execution_count": null,
      "outputs": [
        {
          "output_type": "stream",
          "text": [
            "Requirement already satisfied: dask[complete] in /usr/local/lib/python3.6/dist-packages (2.12.0)\n",
            "Requirement already satisfied: distributed>=2.0; extra == \"complete\" in /usr/local/lib/python3.6/dist-packages (from dask[complete]) (2.19.0)\n",
            "Requirement already satisfied: numpy>=1.13.0; extra == \"complete\" in /usr/local/lib/python3.6/dist-packages (from dask[complete]) (1.19.4)\n",
            "Requirement already satisfied: fsspec>=0.6.0; extra == \"complete\" in /usr/local/lib/python3.6/dist-packages (from dask[complete]) (0.8.5)\n",
            "Requirement already satisfied: bokeh>=1.0.0; extra == \"complete\" in /usr/local/lib/python3.6/dist-packages (from dask[complete]) (2.1.1)\n",
            "Requirement already satisfied: cloudpickle>=0.2.1; extra == \"complete\" in /usr/local/lib/python3.6/dist-packages (from dask[complete]) (1.3.0)\n",
            "Requirement already satisfied: pandas>=0.23.0; extra == \"complete\" in /usr/local/lib/python3.6/dist-packages (from dask[complete]) (1.1.4)\n",
            "Requirement already satisfied: toolz>=0.7.3; extra == \"complete\" in /usr/local/lib/python3.6/dist-packages (from dask[complete]) (0.11.1)\n",
            "Requirement already satisfied: PyYaml; extra == \"complete\" in /usr/local/lib/python3.6/dist-packages (from dask[complete]) (3.13)\n",
            "Requirement already satisfied: partd>=0.3.10; extra == \"complete\" in /usr/local/lib/python3.6/dist-packages (from dask[complete]) (1.1.0)\n",
            "Requirement already satisfied: tornado>=5; python_version < \"3.8\" in /usr/local/lib/python3.6/dist-packages (from distributed>=2.0; extra == \"complete\"->dask[complete]) (5.1.1)\n",
            "Requirement already satisfied: zict>=0.1.3 in /usr/local/lib/python3.6/dist-packages (from distributed>=2.0; extra == \"complete\"->dask[complete]) (2.0.0)\n",
            "Requirement already satisfied: setuptools in /usr/local/lib/python3.6/dist-packages (from distributed>=2.0; extra == \"complete\"->dask[complete]) (50.3.2)\n",
            "Requirement already satisfied: sortedcontainers!=2.0.0,!=2.0.1 in /usr/local/lib/python3.6/dist-packages (from distributed>=2.0; extra == \"complete\"->dask[complete]) (2.3.0)\n",
            "Requirement already satisfied: msgpack>=0.6.0 in /usr/local/lib/python3.6/dist-packages (from distributed>=2.0; extra == \"complete\"->dask[complete]) (1.0.1)\n",
            "Requirement already satisfied: tblib>=1.6.0 in /usr/local/lib/python3.6/dist-packages (from distributed>=2.0; extra == \"complete\"->dask[complete]) (1.7.0)\n",
            "Requirement already satisfied: psutil>=5.0 in /usr/local/lib/python3.6/dist-packages (from distributed>=2.0; extra == \"complete\"->dask[complete]) (5.4.8)\n",
            "Requirement already satisfied: contextvars; python_version < \"3.7\" in /usr/local/lib/python3.6/dist-packages (from distributed>=2.0; extra == \"complete\"->dask[complete]) (2.4)\n",
            "Requirement already satisfied: click>=6.6 in /usr/local/lib/python3.6/dist-packages (from distributed>=2.0; extra == \"complete\"->dask[complete]) (7.1.2)\n",
            "Requirement already satisfied: python-dateutil>=2.1 in /usr/local/lib/python3.6/dist-packages (from bokeh>=1.0.0; extra == \"complete\"->dask[complete]) (2.8.1)\n",
            "Requirement already satisfied: typing-extensions>=3.7.4 in /usr/local/lib/python3.6/dist-packages (from bokeh>=1.0.0; extra == \"complete\"->dask[complete]) (3.7.4.3)\n",
            "Requirement already satisfied: pillow>=4.0 in /usr/local/lib/python3.6/dist-packages (from bokeh>=1.0.0; extra == \"complete\"->dask[complete]) (7.0.0)\n",
            "Requirement already satisfied: Jinja2>=2.7 in /usr/local/lib/python3.6/dist-packages (from bokeh>=1.0.0; extra == \"complete\"->dask[complete]) (2.11.2)\n",
            "Requirement already satisfied: packaging>=16.8 in /usr/local/lib/python3.6/dist-packages (from bokeh>=1.0.0; extra == \"complete\"->dask[complete]) (20.8)\n",
            "Requirement already satisfied: pytz>=2017.2 in /usr/local/lib/python3.6/dist-packages (from pandas>=0.23.0; extra == \"complete\"->dask[complete]) (2018.9)\n",
            "Requirement already satisfied: locket in /usr/local/lib/python3.6/dist-packages (from partd>=0.3.10; extra == \"complete\"->dask[complete]) (0.2.0)\n",
            "Requirement already satisfied: heapdict in /usr/local/lib/python3.6/dist-packages (from zict>=0.1.3->distributed>=2.0; extra == \"complete\"->dask[complete]) (1.0.1)\n",
            "Requirement already satisfied: immutables>=0.9 in /usr/local/lib/python3.6/dist-packages (from contextvars; python_version < \"3.7\"->distributed>=2.0; extra == \"complete\"->dask[complete]) (0.14)\n",
            "Requirement already satisfied: six>=1.5 in /usr/local/lib/python3.6/dist-packages (from python-dateutil>=2.1->bokeh>=1.0.0; extra == \"complete\"->dask[complete]) (1.15.0)\n",
            "Requirement already satisfied: MarkupSafe>=0.23 in /usr/local/lib/python3.6/dist-packages (from Jinja2>=2.7->bokeh>=1.0.0; extra == \"complete\"->dask[complete]) (1.1.1)\n",
            "Requirement already satisfied: pyparsing>=2.0.2 in /usr/local/lib/python3.6/dist-packages (from packaging>=16.8->bokeh>=1.0.0; extra == \"complete\"->dask[complete]) (2.4.7)\n"
          ],
          "name": "stdout"
        }
      ]
    },
    {
      "cell_type": "code",
      "metadata": {
        "colab": {
          "base_uri": "https://localhost:8080/"
        },
        "id": "fgBazSrErmKa",
        "outputId": "1194d484-6823-4b67-9893-851ff61130e5"
      },
      "source": [
        "import dask.dataframe as dd       #Hardware Accelerator: TPU\n",
        "start = time.time()\n",
        "df = dd.read_csv(link).compute()\n",
        "end = time.time()\n",
        "print(end-start)"
      ],
      "execution_count": null,
      "outputs": [
        {
          "output_type": "stream",
          "text": [
            "13.538600444793701\n"
          ],
          "name": "stdout"
        }
      ]
    },
    {
      "cell_type": "code",
      "metadata": {
        "colab": {
          "base_uri": "https://localhost:8080/",
          "height": 246
        },
        "id": "qidejp1ZrmKa",
        "outputId": "19dc8813-3388-4395-957b-cfe344060c57"
      },
      "source": [
        "df.head(5)"
      ],
      "execution_count": null,
      "outputs": [
        {
          "output_type": "execute_result",
          "data": {
            "text/html": [
              "<div>\n",
              "<style scoped>\n",
              "    .dataframe tbody tr th:only-of-type {\n",
              "        vertical-align: middle;\n",
              "    }\n",
              "\n",
              "    .dataframe tbody tr th {\n",
              "        vertical-align: top;\n",
              "    }\n",
              "\n",
              "    .dataframe thead th {\n",
              "        text-align: right;\n",
              "    }\n",
              "</style>\n",
              "<table border=\"1\" class=\"dataframe\">\n",
              "  <thead>\n",
              "    <tr style=\"text-align: right;\">\n",
              "      <th></th>\n",
              "      <th>Region</th>\n",
              "      <th>Country</th>\n",
              "      <th>Item Type</th>\n",
              "      <th>Sales Channel</th>\n",
              "      <th>Order Priority</th>\n",
              "      <th>Order Date</th>\n",
              "      <th>Order ID</th>\n",
              "      <th>Ship Date</th>\n",
              "      <th>Units Sold</th>\n",
              "      <th>Unit Price</th>\n",
              "      <th>Unit Cost</th>\n",
              "      <th>Total Revenue</th>\n",
              "      <th>Total Cost</th>\n",
              "      <th>Total Profit</th>\n",
              "    </tr>\n",
              "  </thead>\n",
              "  <tbody>\n",
              "    <tr>\n",
              "      <th>0</th>\n",
              "      <td>Australia and Oceania</td>\n",
              "      <td>Palau</td>\n",
              "      <td>Office Supplies</td>\n",
              "      <td>Online</td>\n",
              "      <td>H</td>\n",
              "      <td>3/6/2016</td>\n",
              "      <td>517073523</td>\n",
              "      <td>3/26/2016</td>\n",
              "      <td>2401</td>\n",
              "      <td>651.21</td>\n",
              "      <td>524.96</td>\n",
              "      <td>1563555.21</td>\n",
              "      <td>1260428.96</td>\n",
              "      <td>303126.25</td>\n",
              "    </tr>\n",
              "    <tr>\n",
              "      <th>1</th>\n",
              "      <td>Europe</td>\n",
              "      <td>Poland</td>\n",
              "      <td>Beverages</td>\n",
              "      <td>Online</td>\n",
              "      <td>L</td>\n",
              "      <td>4/18/2010</td>\n",
              "      <td>380507028</td>\n",
              "      <td>5/26/2010</td>\n",
              "      <td>9340</td>\n",
              "      <td>47.45</td>\n",
              "      <td>31.79</td>\n",
              "      <td>443183.00</td>\n",
              "      <td>296918.60</td>\n",
              "      <td>146264.40</td>\n",
              "    </tr>\n",
              "    <tr>\n",
              "      <th>2</th>\n",
              "      <td>North America</td>\n",
              "      <td>Canada</td>\n",
              "      <td>Cereal</td>\n",
              "      <td>Online</td>\n",
              "      <td>M</td>\n",
              "      <td>1/8/2015</td>\n",
              "      <td>504055583</td>\n",
              "      <td>1/31/2015</td>\n",
              "      <td>103</td>\n",
              "      <td>205.70</td>\n",
              "      <td>117.11</td>\n",
              "      <td>21187.10</td>\n",
              "      <td>12062.33</td>\n",
              "      <td>9124.77</td>\n",
              "    </tr>\n",
              "    <tr>\n",
              "      <th>3</th>\n",
              "      <td>Europe</td>\n",
              "      <td>Belarus</td>\n",
              "      <td>Snacks</td>\n",
              "      <td>Online</td>\n",
              "      <td>C</td>\n",
              "      <td>1/19/2014</td>\n",
              "      <td>954955518</td>\n",
              "      <td>2/27/2014</td>\n",
              "      <td>1414</td>\n",
              "      <td>152.58</td>\n",
              "      <td>97.44</td>\n",
              "      <td>215748.12</td>\n",
              "      <td>137780.16</td>\n",
              "      <td>77967.96</td>\n",
              "    </tr>\n",
              "    <tr>\n",
              "      <th>4</th>\n",
              "      <td>Middle East and North Africa</td>\n",
              "      <td>Oman</td>\n",
              "      <td>Cereal</td>\n",
              "      <td>Offline</td>\n",
              "      <td>H</td>\n",
              "      <td>4/26/2019</td>\n",
              "      <td>970755660</td>\n",
              "      <td>6/2/2019</td>\n",
              "      <td>7027</td>\n",
              "      <td>205.70</td>\n",
              "      <td>117.11</td>\n",
              "      <td>1445453.90</td>\n",
              "      <td>822931.97</td>\n",
              "      <td>622521.93</td>\n",
              "    </tr>\n",
              "  </tbody>\n",
              "</table>\n",
              "</div>"
            ],
            "text/plain": [
              "                         Region  Country  ...  Total Cost Total Profit\n",
              "0         Australia and Oceania    Palau  ...  1260428.96    303126.25\n",
              "1                        Europe   Poland  ...   296918.60    146264.40\n",
              "2                 North America   Canada  ...    12062.33      9124.77\n",
              "3                        Europe  Belarus  ...   137780.16     77967.96\n",
              "4  Middle East and North Africa     Oman  ...   822931.97    622521.93\n",
              "\n",
              "[5 rows x 14 columns]"
            ]
          },
          "metadata": {
            "tags": []
          },
          "execution_count": 39
        }
      ]
    },
    {
      "cell_type": "markdown",
      "metadata": {
        "id": "LK6Ml6qlrmKa"
      },
      "source": [
        "## Datatable\n",
        "Datatable (heavily inspired by R's data.table) can read large datasets fairly quickly and is often faster than pandas. It is specifically meant for data processing of tabular datasets with emphasis on speed and support for large sized data."
      ]
    },
    {
      "cell_type": "code",
      "metadata": {
        "id": "69TA9ghUBLY7",
        "colab": {
          "base_uri": "https://localhost:8080/"
        },
        "outputId": "7ec856ae-6a3e-4ab6-bfed-b386943c4d65"
      },
      "source": [
        "pip install datatable"
      ],
      "execution_count": null,
      "outputs": [
        {
          "output_type": "stream",
          "text": [
            "Requirement already satisfied: datatable in /usr/local/lib/python3.6/dist-packages (0.11.1)\n"
          ],
          "name": "stdout"
        }
      ]
    },
    {
      "cell_type": "code",
      "metadata": {
        "colab": {
          "base_uri": "https://localhost:8080/"
        },
        "id": "X_o_xihqrmKa",
        "outputId": "0de9fa8b-243c-4280-8db1-46a9a12790fa"
      },
      "source": [
        "import datatable as dt        #Hardware Accelerator: TPU\n",
        "start = time.time()\n",
        "df = dt.fread(link)\n",
        "end = time.time()\n",
        "print(end-start)"
      ],
      "execution_count": null,
      "outputs": [
        {
          "output_type": "stream",
          "text": [
            "4.387416839599609\n"
          ],
          "name": "stdout"
        }
      ]
    },
    {
      "cell_type": "code",
      "metadata": {
        "colab": {
          "base_uri": "https://localhost:8080/",
          "height": 326
        },
        "id": "qUkxIJWIpkxC",
        "outputId": "19ae2863-3302-4dec-cf17-f1d23656a4cc"
      },
      "source": [
        "df.head(5)"
      ],
      "execution_count": null,
      "outputs": [
        {
          "output_type": "stream",
          "text": [
            "   | Region                        Country  Item Type        Sales Channel  Order Priority  Order Date   Order ID  …\n",
            "-- + ----------------------------  -------  ---------------  -------------  --------------  ----------  ---------   \n",
            " 0 | Australia and Oceania         Palau    Office Supplies  Online         H               3/6/2016    517073523  …\n",
            " 1 | Europe                        Poland   Beverages        Online         L               4/18/2010   380507028  …\n",
            " 2 | North America                 Canada   Cereal           Online         M               1/8/2015    504055583  …\n",
            " 3 | Europe                        Belarus  Snacks           Online         C               1/19/2014   954955518  …\n",
            " 4 | Middle East and North Africa  Oman     Cereal           Offline        H               4/26/2019   970755660  …\n",
            "\n",
            "[5 rows x 14 columns]\n"
          ],
          "name": "stdout"
        },
        {
          "output_type": "execute_result",
          "data": {
            "text/html": [
              "<div class='datatable'>\n",
              "  <table class='frame'>\n",
              "  <thead>\n",
              "    <tr class='colnames'><td class='row_index'></td><th>Region</th><th>Country</th><th>Item Type</th><th>Sales Channel</th><th>Order Priority</th><th>Order Date</th><th>Order ID</th><th>Ship Date</th><th>Units Sold</th><th>Unit Price</th><th>Unit Cost</th><th>Total Revenue</th><th>Total Cost</th><th>Total Profit</th></tr>\n",
              "    <tr class='coltypes'><td class='row_index'></td><td class='str' title='str32'>&#x25AA;&#x25AA;&#x25AA;&#x25AA;</td><td class='str' title='str32'>&#x25AA;&#x25AA;&#x25AA;&#x25AA;</td><td class='str' title='str32'>&#x25AA;&#x25AA;&#x25AA;&#x25AA;</td><td class='str' title='str32'>&#x25AA;&#x25AA;&#x25AA;&#x25AA;</td><td class='str' title='str32'>&#x25AA;&#x25AA;&#x25AA;&#x25AA;</td><td class='str' title='str32'>&#x25AA;&#x25AA;&#x25AA;&#x25AA;</td><td class='int' title='int32'>&#x25AA;&#x25AA;&#x25AA;&#x25AA;</td><td class='str' title='str32'>&#x25AA;&#x25AA;&#x25AA;&#x25AA;</td><td class='int' title='int32'>&#x25AA;&#x25AA;&#x25AA;&#x25AA;</td><td class='float' title='float64'>&#x25AA;&#x25AA;&#x25AA;&#x25AA;&#x25AA;&#x25AA;&#x25AA;&#x25AA;</td><td class='float' title='float64'>&#x25AA;&#x25AA;&#x25AA;&#x25AA;&#x25AA;&#x25AA;&#x25AA;&#x25AA;</td><td class='float' title='float64'>&#x25AA;&#x25AA;&#x25AA;&#x25AA;&#x25AA;&#x25AA;&#x25AA;&#x25AA;</td><td class='float' title='float64'>&#x25AA;&#x25AA;&#x25AA;&#x25AA;&#x25AA;&#x25AA;&#x25AA;&#x25AA;</td><td class='float' title='float64'>&#x25AA;&#x25AA;&#x25AA;&#x25AA;&#x25AA;&#x25AA;&#x25AA;&#x25AA;</td></tr>\n",
              "  </thead>\n",
              "  <tbody>\n",
              "    <tr><td class='row_index'>0</td><td>Australia and Oceania</td><td>Palau</td><td>Office Supplies</td><td>Online</td><td>H</td><td>3/6/2016</td><td>517073523</td><td>3/26/2016</td><td>2401</td><td>651.21</td><td>524.96</td><td>1.56356e+06</td><td>1.26043e+06</td><td>303126</td></tr>\n",
              "    <tr><td class='row_index'>1</td><td>Europe</td><td>Poland</td><td>Beverages</td><td>Online</td><td>L</td><td>4/18/2010</td><td>380507028</td><td>5/26/2010</td><td>9340</td><td>47.45</td><td>31.79</td><td>443183</td><td>296919</td><td>146264</td></tr>\n",
              "    <tr><td class='row_index'>2</td><td>North America</td><td>Canada</td><td>Cereal</td><td>Online</td><td>M</td><td>1/8/2015</td><td>504055583</td><td>1/31/2015</td><td>103</td><td>205.7</td><td>117.11</td><td>21187.1</td><td>12062.3</td><td>9124.77</td></tr>\n",
              "    <tr><td class='row_index'>3</td><td>Europe</td><td>Belarus</td><td>Snacks</td><td>Online</td><td>C</td><td>1/19/2014</td><td>954955518</td><td>2/27/2014</td><td>1414</td><td>152.58</td><td>97.44</td><td>215748</td><td>137780</td><td>77968</td></tr>\n",
              "    <tr><td class='row_index'>4</td><td>Middle East and North Africa</td><td>Oman</td><td>Cereal</td><td>Offline</td><td>H</td><td>4/26/2019</td><td>970755660</td><td>6/2/2019</td><td>7027</td><td>205.7</td><td>117.11</td><td>1.44545e+06</td><td>822932</td><td>622522</td></tr>\n",
              "  </tbody>\n",
              "  </table>\n",
              "  <div class='footer'>\n",
              "    <div class='frame_dimensions'>5 rows &times; 14 columns</div>\n",
              "  </div>\n",
              "</div>\n"
            ],
            "text/plain": [
              ""
            ]
          },
          "metadata": {
            "tags": []
          },
          "execution_count": 42
        }
      ]
    },
    {
      "cell_type": "code",
      "metadata": {
        "colab": {
          "base_uri": "https://localhost:8080/"
        },
        "id": "PgIyxnPermKa",
        "outputId": "68b2a283-e158-4369-d564-3f992f044283"
      },
      "source": [
        "df.shape"
      ],
      "execution_count": null,
      "outputs": [
        {
          "output_type": "execute_result",
          "data": {
            "text/plain": [
              "(5000000, 14)"
            ]
          },
          "metadata": {
            "tags": []
          },
          "execution_count": 43
        }
      ]
    },
    {
      "cell_type": "markdown",
      "metadata": {
        "id": "rMbsl3yTrmKa"
      },
      "source": [
        "Format: feather\n",
        "It is common to store data in feather (binary) format specifically for pandas. It significantly improves reading speed of datasets."
      ]
    },
    {
      "cell_type": "markdown",
      "metadata": {
        "id": "C72VSvfVrmKa"
      },
      "source": [
        "## Modin"
      ]
    },
    {
      "cell_type": "markdown",
      "metadata": {
        "id": "B1HBaOESeBan"
      },
      "source": [
        "A library which helps pandas to read big files and boosts its speed. All syntax is same as pandas."
      ]
    },
    {
      "cell_type": "code",
      "metadata": {
        "id": "2L7LwIqAVyCe",
        "colab": {
          "base_uri": "https://localhost:8080/"
        },
        "outputId": "61abd321-3634-4092-dfe9-219a8ea32b78"
      },
      "source": [
        "pip install modin[dask]"
      ],
      "execution_count": null,
      "outputs": [
        {
          "output_type": "stream",
          "text": [
            "Requirement already satisfied: modin[dask] in /usr/local/lib/python3.6/dist-packages (0.8.2)\n",
            "Requirement already satisfied: packaging in /usr/local/lib/python3.6/dist-packages (from modin[dask]) (20.8)\n",
            "Requirement already satisfied: pandas==1.1.4 in /usr/local/lib/python3.6/dist-packages (from modin[dask]) (1.1.4)\n",
            "Requirement already satisfied: dask<=2.19.0,>=2.12.0; extra == \"dask\" in /usr/local/lib/python3.6/dist-packages (from modin[dask]) (2.12.0)\n",
            "Requirement already satisfied: distributed<=2.19.0,>=2.12.0; extra == \"dask\" in /usr/local/lib/python3.6/dist-packages (from modin[dask]) (2.19.0)\n",
            "Requirement already satisfied: pyparsing>=2.0.2 in /usr/local/lib/python3.6/dist-packages (from packaging->modin[dask]) (2.4.7)\n",
            "Requirement already satisfied: numpy>=1.15.4 in /usr/local/lib/python3.6/dist-packages (from pandas==1.1.4->modin[dask]) (1.19.4)\n",
            "Requirement already satisfied: pytz>=2017.2 in /usr/local/lib/python3.6/dist-packages (from pandas==1.1.4->modin[dask]) (2018.9)\n",
            "Requirement already satisfied: python-dateutil>=2.7.3 in /usr/local/lib/python3.6/dist-packages (from pandas==1.1.4->modin[dask]) (2.8.1)\n",
            "Requirement already satisfied: toolz>=0.8.2 in /usr/local/lib/python3.6/dist-packages (from distributed<=2.19.0,>=2.12.0; extra == \"dask\"->modin[dask]) (0.11.1)\n",
            "Requirement already satisfied: psutil>=5.0 in /usr/local/lib/python3.6/dist-packages (from distributed<=2.19.0,>=2.12.0; extra == \"dask\"->modin[dask]) (5.4.8)\n",
            "Requirement already satisfied: tblib>=1.6.0 in /usr/local/lib/python3.6/dist-packages (from distributed<=2.19.0,>=2.12.0; extra == \"dask\"->modin[dask]) (1.7.0)\n",
            "Requirement already satisfied: contextvars; python_version < \"3.7\" in /usr/local/lib/python3.6/dist-packages (from distributed<=2.19.0,>=2.12.0; extra == \"dask\"->modin[dask]) (2.4)\n",
            "Requirement already satisfied: click>=6.6 in /usr/local/lib/python3.6/dist-packages (from distributed<=2.19.0,>=2.12.0; extra == \"dask\"->modin[dask]) (7.1.2)\n",
            "Requirement already satisfied: setuptools in /usr/local/lib/python3.6/dist-packages (from distributed<=2.19.0,>=2.12.0; extra == \"dask\"->modin[dask]) (50.3.2)\n",
            "Requirement already satisfied: sortedcontainers!=2.0.0,!=2.0.1 in /usr/local/lib/python3.6/dist-packages (from distributed<=2.19.0,>=2.12.0; extra == \"dask\"->modin[dask]) (2.3.0)\n",
            "Requirement already satisfied: tornado>=5; python_version < \"3.8\" in /usr/local/lib/python3.6/dist-packages (from distributed<=2.19.0,>=2.12.0; extra == \"dask\"->modin[dask]) (5.1.1)\n",
            "Requirement already satisfied: cloudpickle>=1.3.0 in /usr/local/lib/python3.6/dist-packages (from distributed<=2.19.0,>=2.12.0; extra == \"dask\"->modin[dask]) (1.3.0)\n",
            "Requirement already satisfied: zict>=0.1.3 in /usr/local/lib/python3.6/dist-packages (from distributed<=2.19.0,>=2.12.0; extra == \"dask\"->modin[dask]) (2.0.0)\n",
            "Requirement already satisfied: pyyaml in /usr/local/lib/python3.6/dist-packages (from distributed<=2.19.0,>=2.12.0; extra == \"dask\"->modin[dask]) (3.13)\n",
            "Requirement already satisfied: msgpack>=0.6.0 in /usr/local/lib/python3.6/dist-packages (from distributed<=2.19.0,>=2.12.0; extra == \"dask\"->modin[dask]) (1.0.1)\n",
            "Requirement already satisfied: six>=1.5 in /usr/local/lib/python3.6/dist-packages (from python-dateutil>=2.7.3->pandas==1.1.4->modin[dask]) (1.15.0)\n",
            "Requirement already satisfied: immutables>=0.9 in /usr/local/lib/python3.6/dist-packages (from contextvars; python_version < \"3.7\"->distributed<=2.19.0,>=2.12.0; extra == \"dask\"->modin[dask]) (0.14)\n",
            "Requirement already satisfied: heapdict in /usr/local/lib/python3.6/dist-packages (from zict>=0.1.3->distributed<=2.19.0,>=2.12.0; extra == \"dask\"->modin[dask]) (1.0.1)\n"
          ],
          "name": "stdout"
        }
      ]
    },
    {
      "cell_type": "code",
      "metadata": {
        "colab": {
          "base_uri": "https://localhost:8080/"
        },
        "id": "h2566YAVrmKa",
        "outputId": "d86f4e37-1304-49a7-8bb4-322b28d63185"
      },
      "source": [
        "import modin.pandas as mpd     #Hardware Accelerator: TPU\n",
        "start = time.time()\n",
        "df = mpd.read_csv(link)\n",
        "end = time.time()\n",
        "print(end-start)"
      ],
      "execution_count": null,
      "outputs": [
        {
          "output_type": "stream",
          "text": [
            "10.028507709503174\n"
          ],
          "name": "stdout"
        }
      ]
    },
    {
      "cell_type": "code",
      "metadata": {
        "colab": {
          "base_uri": "https://localhost:8080/",
          "height": 246
        },
        "id": "IFizdYLIpSMi",
        "outputId": "af6cb933-72cc-4d78-a403-1b17be33e35e"
      },
      "source": [
        "df.head()"
      ],
      "execution_count": null,
      "outputs": [
        {
          "output_type": "execute_result",
          "data": {
            "text/html": [
              "<div>\n",
              "<style scoped>\n",
              "    .dataframe tbody tr th:only-of-type {\n",
              "        vertical-align: middle;\n",
              "    }\n",
              "\n",
              "    .dataframe tbody tr th {\n",
              "        vertical-align: top;\n",
              "    }\n",
              "\n",
              "    .dataframe thead th {\n",
              "        text-align: right;\n",
              "    }\n",
              "</style>\n",
              "<table border=\"1\" class=\"dataframe\">\n",
              "  <thead>\n",
              "    <tr style=\"text-align: right;\">\n",
              "      <th></th>\n",
              "      <th>Region</th>\n",
              "      <th>Country</th>\n",
              "      <th>Item Type</th>\n",
              "      <th>Sales Channel</th>\n",
              "      <th>Order Priority</th>\n",
              "      <th>Order Date</th>\n",
              "      <th>Order ID</th>\n",
              "      <th>Ship Date</th>\n",
              "      <th>Units Sold</th>\n",
              "      <th>Unit Price</th>\n",
              "      <th>Unit Cost</th>\n",
              "      <th>Total Revenue</th>\n",
              "      <th>Total Cost</th>\n",
              "      <th>Total Profit</th>\n",
              "    </tr>\n",
              "  </thead>\n",
              "  <tbody>\n",
              "    <tr>\n",
              "      <th>0</th>\n",
              "      <td>Australia and Oceania</td>\n",
              "      <td>Palau</td>\n",
              "      <td>Office Supplies</td>\n",
              "      <td>Online</td>\n",
              "      <td>H</td>\n",
              "      <td>3/6/2016</td>\n",
              "      <td>517073523</td>\n",
              "      <td>3/26/2016</td>\n",
              "      <td>2401</td>\n",
              "      <td>651.21</td>\n",
              "      <td>524.96</td>\n",
              "      <td>1563555.21</td>\n",
              "      <td>1260428.96</td>\n",
              "      <td>303126.25</td>\n",
              "    </tr>\n",
              "    <tr>\n",
              "      <th>1</th>\n",
              "      <td>Europe</td>\n",
              "      <td>Poland</td>\n",
              "      <td>Beverages</td>\n",
              "      <td>Online</td>\n",
              "      <td>L</td>\n",
              "      <td>4/18/2010</td>\n",
              "      <td>380507028</td>\n",
              "      <td>5/26/2010</td>\n",
              "      <td>9340</td>\n",
              "      <td>47.45</td>\n",
              "      <td>31.79</td>\n",
              "      <td>443183.00</td>\n",
              "      <td>296918.60</td>\n",
              "      <td>146264.40</td>\n",
              "    </tr>\n",
              "    <tr>\n",
              "      <th>2</th>\n",
              "      <td>North America</td>\n",
              "      <td>Canada</td>\n",
              "      <td>Cereal</td>\n",
              "      <td>Online</td>\n",
              "      <td>M</td>\n",
              "      <td>1/8/2015</td>\n",
              "      <td>504055583</td>\n",
              "      <td>1/31/2015</td>\n",
              "      <td>103</td>\n",
              "      <td>205.70</td>\n",
              "      <td>117.11</td>\n",
              "      <td>21187.10</td>\n",
              "      <td>12062.33</td>\n",
              "      <td>9124.77</td>\n",
              "    </tr>\n",
              "    <tr>\n",
              "      <th>3</th>\n",
              "      <td>Europe</td>\n",
              "      <td>Belarus</td>\n",
              "      <td>Snacks</td>\n",
              "      <td>Online</td>\n",
              "      <td>C</td>\n",
              "      <td>1/19/2014</td>\n",
              "      <td>954955518</td>\n",
              "      <td>2/27/2014</td>\n",
              "      <td>1414</td>\n",
              "      <td>152.58</td>\n",
              "      <td>97.44</td>\n",
              "      <td>215748.12</td>\n",
              "      <td>137780.16</td>\n",
              "      <td>77967.96</td>\n",
              "    </tr>\n",
              "    <tr>\n",
              "      <th>4</th>\n",
              "      <td>Middle East and North Africa</td>\n",
              "      <td>Oman</td>\n",
              "      <td>Cereal</td>\n",
              "      <td>Offline</td>\n",
              "      <td>H</td>\n",
              "      <td>4/26/2019</td>\n",
              "      <td>970755660</td>\n",
              "      <td>6/2/2019</td>\n",
              "      <td>7027</td>\n",
              "      <td>205.70</td>\n",
              "      <td>117.11</td>\n",
              "      <td>1445453.90</td>\n",
              "      <td>822931.97</td>\n",
              "      <td>622521.93</td>\n",
              "    </tr>\n",
              "  </tbody>\n",
              "</table>\n",
              "</div>"
            ],
            "text/plain": [
              "                         Region  Country  ...  Total Cost Total Profit\n",
              "0         Australia and Oceania    Palau  ...  1260428.96    303126.25\n",
              "1                        Europe   Poland  ...   296918.60    146264.40\n",
              "2                 North America   Canada  ...    12062.33      9124.77\n",
              "3                        Europe  Belarus  ...   137780.16     77967.96\n",
              "4  Middle East and North Africa     Oman  ...   822931.97    622521.93\n",
              "\n",
              "[5 rows x 14 columns]"
            ]
          },
          "metadata": {
            "tags": []
          },
          "execution_count": 46
        }
      ]
    },
    {
      "cell_type": "markdown",
      "metadata": {
        "id": "kWeaqGIaHhTG"
      },
      "source": [
        "# Hardware"
      ]
    },
    {
      "cell_type": "code",
      "metadata": {
        "colab": {
          "base_uri": "https://localhost:8080/"
        },
        "id": "t2qaGqM0H5n5",
        "outputId": "5b8c2d8f-9f06-4064-9fc4-1b69b9637a8b"
      },
      "source": [
        "!nvidia-smi -L"
      ],
      "execution_count": null,
      "outputs": [
        {
          "output_type": "stream",
          "text": [
            "NVIDIA-SMI has failed because it couldn't communicate with the NVIDIA driver. Make sure that the latest NVIDIA driver is installed and running.\n",
            "\n"
          ],
          "name": "stdout"
        }
      ]
    },
    {
      "cell_type": "code",
      "metadata": {
        "colab": {
          "base_uri": "https://localhost:8080/"
        },
        "id": "1wYjrW4pHypo",
        "outputId": "48416293-bee3-4af1-86b8-8b8306697d9e"
      },
      "source": [
        "!nvidia-smi"
      ],
      "execution_count": null,
      "outputs": [
        {
          "output_type": "stream",
          "text": [
            "NVIDIA-SMI has failed because it couldn't communicate with the NVIDIA driver. Make sure that the latest NVIDIA driver is installed and running.\n",
            "\n"
          ],
          "name": "stdout"
        }
      ]
    },
    {
      "cell_type": "code",
      "metadata": {
        "colab": {
          "base_uri": "https://localhost:8080/"
        },
        "id": "4VJaHUFwHmsf",
        "outputId": "02609992-e37c-4849-9da0-7de35b1ba096"
      },
      "source": [
        "#no.of sockets i.e available slots for physical processors\r\n",
        "!lscpu | grep 'Socket(s):'"
      ],
      "execution_count": null,
      "outputs": [
        {
          "output_type": "stream",
          "text": [
            "Socket(s):           1\n"
          ],
          "name": "stdout"
        }
      ]
    },
    {
      "cell_type": "code",
      "metadata": {
        "colab": {
          "base_uri": "https://localhost:8080/"
        },
        "id": "y-8GYF-_H_JI",
        "outputId": "bdc8f124-9e09-4d53-99d5-048315ac16cb"
      },
      "source": [
        "!lscpu | grep 'Core(s) per socket:'"
      ],
      "execution_count": null,
      "outputs": [
        {
          "output_type": "stream",
          "text": [
            "Core(s) per socket:  1\n"
          ],
          "name": "stdout"
        }
      ]
    },
    {
      "cell_type": "code",
      "metadata": {
        "colab": {
          "base_uri": "https://localhost:8080/"
        },
        "id": "KZ2YD_gOIC8k",
        "outputId": "a6da38d4-af01-46ed-f487-b3187086c14a"
      },
      "source": [
        "!lscpu | grep 'Thread(s) per core'\r\n",
        " "
      ],
      "execution_count": null,
      "outputs": [
        {
          "output_type": "stream",
          "text": [
            "Thread(s) per core:  2\n"
          ],
          "name": "stdout"
        }
      ]
    },
    {
      "cell_type": "code",
      "metadata": {
        "colab": {
          "base_uri": "https://localhost:8080/"
        },
        "id": "pWQ98otqIGxp",
        "outputId": "5d33a714-e1a4-468f-d07b-42fe4063bcfb"
      },
      "source": [
        "!lscpu | grep \"L3 cache\""
      ],
      "execution_count": null,
      "outputs": [
        {
          "output_type": "stream",
          "text": [
            "L3 cache:            46080K\n"
          ],
          "name": "stdout"
        }
      ]
    },
    {
      "cell_type": "code",
      "metadata": {
        "colab": {
          "base_uri": "https://localhost:8080/"
        },
        "id": "vV6mjCGkILRs",
        "outputId": "c03b2551-9b27-423b-da01-647913c84a36"
      },
      "source": [
        "!lscpu | grep \"MHz\""
      ],
      "execution_count": null,
      "outputs": [
        {
          "output_type": "stream",
          "text": [
            "CPU MHz:             2299.998\n"
          ],
          "name": "stdout"
        }
      ]
    },
    {
      "cell_type": "code",
      "metadata": {
        "colab": {
          "base_uri": "https://localhost:8080/"
        },
        "id": "oA1btxXQIQFB",
        "outputId": "fa169c3c-b4e4-4641-f514-db5cf33f3528"
      },
      "source": [
        "!free -h --si | awk  '/Mem:/{print $2}'"
      ],
      "execution_count": null,
      "outputs": [
        {
          "output_type": "stream",
          "text": [
            "13G\n"
          ],
          "name": "stdout"
        }
      ]
    },
    {
      "cell_type": "code",
      "metadata": {
        "colab": {
          "base_uri": "https://localhost:8080/"
        },
        "id": "dRDE7LQdIYB9",
        "outputId": "7320ec6a-e746-40e9-b959-f4b9073ab979"
      },
      "source": [
        "!df -h / | awk '{print $4}'"
      ],
      "execution_count": null,
      "outputs": [
        {
          "output_type": "stream",
          "text": [
            "Avail\n",
            "75G\n"
          ],
          "name": "stdout"
        }
      ]
    },
    {
      "cell_type": "markdown",
      "metadata": {
        "id": "Ylsz249vrmKa"
      },
      "source": [
        "\n",
        "\n",
        "\n",
        "\n",
        "## Time analysis\n",
        "Pandas    = 10.77 sec.\n",
        "\n",
        "Dask      = 13.55 sec.\n",
        "\n",
        "Datatable = 4.38 sec.\n",
        "\n",
        "Modin     = 10.00 sec.\n",
        "\n",
        "Dask> pandas > Modin > Datatable"
      ]
    },
    {
      "cell_type": "markdown",
      "metadata": {
        "id": "7L3iP7iQPKHL"
      },
      "source": [
        "1. The Datatable toolkit resembeles pandas very closely but is more focused on speed.\n",
        "\n",
        "2. You can also convert datatble frame to pandas frame by using command data.to_pandas() . \n",
        "\n",
        "3. Modin is a library which sits on top of pandas and makes it computations faster then alone pandas but its still slower than datatable. It runs on all the CPU cores.\n",
        "\n",
        "4. Pandas can use only single CPU at a time where as Modin can use all cpu core. "
      ]
    },
    {
      "cell_type": "markdown",
      "metadata": {
        "id": "3nkVb0G5w6B6"
      },
      "source": [
        "![Untitled presentation (1).jpg](data:image/jpeg;base64,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)"
      ]
    },
    {
      "cell_type": "markdown",
      "metadata": {
        "id": "15ZxDD7jf2ZV"
      },
      "source": [
        "# Conclusion"
      ]
    },
    {
      "cell_type": "markdown",
      "metadata": {
        "id": "pgrmq7v0gG9g"
      },
      "source": [
        "If dataset is huge like more than like have 100 million rows prefer using Datatable, if dataset if of normal size than pandas with modin or simple pandas would work fine."
      ]
    },
    {
      "cell_type": "code",
      "metadata": {
        "id": "qnP0c_F3PcMo"
      },
      "source": [
        ""
      ],
      "execution_count": null,
      "outputs": []
    }
  ]
}